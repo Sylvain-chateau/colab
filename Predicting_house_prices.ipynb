{
  "nbformat": 4,
  "nbformat_minor": 0,
  "metadata": {
    "colab": {
      "name": "Predicting_house_prices.ipynb",
      "provenance": [],
      "collapsed_sections": [],
      "include_colab_link": true
    },
    "kernelspec": {
      "name": "python3",
      "display_name": "Python 3"
    }
  },
  "cells": [
    {
      "cell_type": "markdown",
      "metadata": {
        "id": "view-in-github",
        "colab_type": "text"
      },
      "source": [
        "<a href=\"https://colab.research.google.com/github/Sylvain-chateau/colab-small_projects/blob/master/Predicting_house_prices.ipynb\" target=\"_parent\"><img src=\"https://colab.research.google.com/assets/colab-badge.svg\" alt=\"Open In Colab\"/></a>"
      ]
    },
    {
      "cell_type": "code",
      "metadata": {
        "id": "MK3HJ2nwMLW0",
        "colab_type": "code",
        "colab": {}
      },
      "source": [
        "This notebook features a model for predicting house prices using the Boston_housing dataset. It is inspired by the book \"Deep learning with Python\" by Keras author François Chollet."
      ],
      "execution_count": 0,
      "outputs": []
    },
    {
      "cell_type": "markdown",
      "metadata": {
        "id": "GkRUN0MxMcp-",
        "colab_type": "text"
      },
      "source": [
        "# 1. Loading & preparing the data"
      ]
    },
    {
      "cell_type": "code",
      "metadata": {
        "id": "B7cRRHDMMdv7",
        "colab_type": "code",
        "colab": {}
      },
      "source": [
        "#Loading the Bonston_housing dataset, which is already preprocessed:\n",
        "from keras.datasets import boston_housing\n",
        "\n",
        "(train_data, train_targets), (test_data, test_targets) = boston_housing.load_data()"
      ],
      "execution_count": 0,
      "outputs": []
    },
    {
      "cell_type": "code",
      "metadata": {
        "id": "j57FViD9MsZl",
        "colab_type": "code",
        "colab": {
          "base_uri": "https://localhost:8080/",
          "height": 69
        },
        "outputId": "db204247-e6a9-49dc-af31-154e06c87d6f"
      },
      "source": [
        "#Explore the data\n",
        "print(\"Training entries: {}, targets: {}\".format(len(train_data), len(train_targets)))\n",
        "print(\"Test entries: {}, targets: {}\".format(len(test_data), len(test_targets)))\n",
        "\n",
        "train_data.shape"
      ],
      "execution_count": 11,
      "outputs": [
        {
          "output_type": "stream",
          "text": [
            "Training entries: 404, targets: 404\n",
            "Test entries: 102, targets: 102\n"
          ],
          "name": "stdout"
        },
        {
          "output_type": "execute_result",
          "data": {
            "text/plain": [
              "(404, 13)"
            ]
          },
          "metadata": {
            "tags": []
          },
          "execution_count": 11
        }
      ]
    },
    {
      "cell_type": "markdown",
      "metadata": {
        "id": "0Yz-FYa_Ncmu",
        "colab_type": "text"
      },
      "source": [
        "We have 404 training samples with 13 numerical features to help us predict the price of homes in a given Boston suburb in the mid-1970s. The targets are the median values of the house in thousands of dollars."
      ]
    },
    {
      "cell_type": "code",
      "metadata": {
        "id": "_eYE-qbyN2fk",
        "colab_type": "code",
        "colab": {}
      },
      "source": [
        "import numpy as np\n",
        "\n",
        "#Normalizing the data:\n",
        "mean = train_data.mean(axis=0)\n",
        "train_data -= mean\n",
        "std = train_data.std(axis=0)\n",
        "train_data /= std\n",
        "\n",
        "test_data -= mean\n",
        "test_data /= std"
      ],
      "execution_count": 0,
      "outputs": []
    },
    {
      "cell_type": "markdown",
      "metadata": {
        "id": "5kjf2RDvOp5l",
        "colab_type": "text"
      },
      "source": [
        "# 2. Building the network"
      ]
    },
    {
      "cell_type": "markdown",
      "metadata": {
        "id": "bEupm2QuOtqc",
        "colab_type": "text"
      },
      "source": [
        "Because we don't have a lot of samples, we'll build a small network to mitigat overfitting"
      ]
    },
    {
      "cell_type": "code",
      "metadata": {
        "id": "gU4ovsf0Oq2X",
        "colab_type": "code",
        "colab": {}
      },
      "source": [
        "#model definition\n",
        "from tensorflow.keras import models, layers\n",
        "\n",
        "#Since we will use k-fold cross-validation, we will instantiate the model multiple times, thus we create a function for it.\n",
        "def build_model():\n",
        "  model = models.Sequential()\n",
        "  model.add(layers.Dense(64, activation='relu', input_shape=(train_data.shape[1],)))\n",
        "  model.add(layers.Dense(64, activation='relu'))\n",
        "  model.add(layers.Dense(1))\n",
        "  #Compiling the model\n",
        "  model.compile(optimizer='rmsprop',\n",
        "                loss='mse',\n",
        "                metrics=['mae'])\n",
        "  return model"
      ],
      "execution_count": 0,
      "outputs": []
    },
    {
      "cell_type": "markdown",
      "metadata": {
        "id": "PHDqWiAjR5NR",
        "colab_type": "text"
      },
      "source": [
        "## 2.1 K-fold cross validation"
      ]
    },
    {
      "cell_type": "code",
      "metadata": {
        "id": "TyoKs8gxR_ri",
        "colab_type": "code",
        "colab": {
          "base_uri": "https://localhost:8080/",
          "height": 104
        },
        "outputId": "b2509331-f5cb-4f13-d35c-69f6e2704382"
      },
      "source": [
        "k = 5\n",
        "num_val_samples = len(train_data) // k\n",
        "num_epochs = 150\n",
        "all_mae_histories = []\n",
        "\n",
        "for i in range(k):\n",
        "  print('processing fold #', i)\n",
        "  #prepares the validation data from partition #k:\n",
        "  val_data = train_data[i*num_val_samples : (i+1)*num_val_samples]\n",
        "  val_targets = train_targets[i*num_val_samples : (i+1)*num_val_samples]\n",
        "  \n",
        "  #prepares the training data:\n",
        "  partial_train_data = np.concatenate([train_data[:i*num_val_samples],\n",
        "                                       train_data[(i+1)*num_val_samples:]],\n",
        "                                       axis=0)\n",
        "  partial_train_targets = np.concatenate([train_targets[:i*num_val_samples],\n",
        "                                       train_targets[(i+1)*num_val_samples:]],\n",
        "                                       axis=0)\n",
        "  \n",
        "  model = build_model()\n",
        "  history = model.fit(partial_train_data, partial_train_targets,\n",
        "                     validation_data=(val_data,val_targets),\n",
        "                     epochs=num_epochs, batch_size=1, verbose=0)\n",
        "  mae_history = history.history['val_mean_absolute_error']\n",
        "  all_mae_histories.append(mae_history)\n",
        "  \n",
        "  "
      ],
      "execution_count": 28,
      "outputs": [
        {
          "output_type": "stream",
          "text": [
            "processing fold # 0\n",
            "processing fold # 1\n",
            "processing fold # 2\n",
            "processing fold # 3\n",
            "processing fold # 4\n"
          ],
          "name": "stdout"
        }
      ]
    },
    {
      "cell_type": "code",
      "metadata": {
        "id": "mHctwi3FWWBV",
        "colab_type": "code",
        "colab": {}
      },
      "source": [
        "average_mae_history = [ np.mean([x[i] for x in all_mae_histories]) for i in range(num_epochs)]"
      ],
      "execution_count": 0,
      "outputs": []
    },
    {
      "cell_type": "markdown",
      "metadata": {
        "id": "LEV3N9oxXKOd",
        "colab_type": "text"
      },
      "source": [
        "## 2.2 Plotting the validation scores"
      ]
    },
    {
      "cell_type": "code",
      "metadata": {
        "id": "1-mCZ9BsXPN-",
        "colab_type": "code",
        "colab": {
          "base_uri": "https://localhost:8080/",
          "height": 283
        },
        "outputId": "34d424bc-91b4-4e39-a01e-85d333afbbbb"
      },
      "source": [
        "#Plotting the validation scores excluding the 10 first data points, and adding an exponential moving average on each point.\n",
        "import matplotlib.pyplot as plt\n",
        "\n",
        "def smooth_curve(points, factor=0.9):\n",
        "  smoothed_points = []\n",
        "  for point in points:\n",
        "    if smoothed_points:\n",
        "      previous = smoothed_points[-1]\n",
        "      smoothed_points.append(previous*factor + point*(1-factor))\n",
        "    else:\n",
        "      smoothed_points.append(point)\n",
        "  return smoothed_points\n",
        "\n",
        "smooth_mae_history = smooth_curve(average_mae_history[10:])        \n",
        "\n",
        "plt.plot(range(1, len(smooth_mae_history)+1 ), smooth_mae_history)\n",
        "plt.xlabel('Epochs')\n",
        "plt.ylabel('Validation Mean Absolute Error')\n",
        "plt.show()"
      ],
      "execution_count": 30,
      "outputs": [
        {
          "output_type": "display_data",
          "data": {
            "image/png": "[encoded data removed]",
            "text/plain": [
              "<Figure size 432x288 with 1 Axes>"
            ]
          },
          "metadata": {
            "tags": []
          }
        }
      ]
    },
    {
      "cell_type": "markdown",
      "metadata": {
        "id": "mKpXj7tKbSXv",
        "colab_type": "text"
      },
      "source": [
        "We start overfitting after 38 epochs."
      ]
    },
    {
      "cell_type": "markdown",
      "metadata": {
        "id": "A5pgSJ7ZbWYj",
        "colab_type": "text"
      },
      "source": [
        "## 2.3 Training the final model"
      ]
    },
    {
      "cell_type": "code",
      "metadata": {
        "id": "F_9S9ljgbZwD",
        "colab_type": "code",
        "colab": {
          "base_uri": "https://localhost:8080/",
          "height": 34
        },
        "outputId": "3379c34c-6088-4d93-87fb-fa1a77a0f361"
      },
      "source": [
        "model = build_model()\n",
        "model.fit(train_data, train_targets,\n",
        "         epochs=38, batch_size=16, verbose=0)\n",
        "test_mse_score, test_mae_score = model.evaluate(test_data, test_targets)"
      ],
      "execution_count": 31,
      "outputs": [
        {
          "output_type": "stream",
          "text": [
            "102/102 [==============================] - 0s 1ms/sample - loss: 22.0878 - mean_absolute_error: 2.8620\n"
          ],
          "name": "stdout"
        }
      ]
    },
    {
      "cell_type": "markdown",
      "metadata": {
        "id": "ikrspoqIb3R-",
        "colab_type": "text"
      },
      "source": [
        "We have an error of about 2860$ on the estimated price..."
      ]
    }
  ]
}