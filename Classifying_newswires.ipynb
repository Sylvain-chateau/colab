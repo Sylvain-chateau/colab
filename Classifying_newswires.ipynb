{
  "nbformat": 4,
  "nbformat_minor": 0,
  "metadata": {
    "colab": {
      "name": "Classifying_newswires.ipynb",
      "provenance": [],
      "collapsed_sections": [],
      "include_colab_link": true
    },
    "kernelspec": {
      "name": "python3",
      "display_name": "Python 3"
    }
  },
  "cells": [
    {
      "cell_type": "markdown",
      "metadata": {
        "id": "view-in-github",
        "colab_type": "text"
      },
      "source": [
        "<a href=\"https://colab.research.google.com/github/Sylvain-chateau/colab-small_projects/blob/master/Classifying_newswires.ipynb\" target=\"_parent\"><img src=\"https://colab.research.google.com/assets/colab-badge.svg\" alt=\"Open In Colab\"/></a>"
      ]
    },
    {
      "cell_type": "markdown",
      "metadata": {
        "id": "ybilfgoHGQkO",
        "colab_type": "text"
      },
      "source": [
        "This notebook features a model for classifying newswires using the Reuters datase. It is inspired by the book \"Deep learning with Python\" by Keras author François Chollet."
      ]
    },
    {
      "cell_type": "markdown",
      "metadata": {
        "id": "1_gywuTaGiI5",
        "colab_type": "text"
      },
      "source": [
        "# 1. Loading & preparing the data"
      ]
    },
    {
      "cell_type": "code",
      "metadata": {
        "id": "z0lwxj2zF4DN",
        "colab_type": "code",
        "colab": {
          "base_uri": "https://localhost:8080/",
          "height": 69
        },
        "outputId": "412cce1f-45fb-4aee-d6e1-78225263a18e"
      },
      "source": [
        "#Loading the Reuters dataset, which is already preprocessed:\n",
        "from keras.datasets import reuters\n",
        "\n",
        "(train_data, train_labels), (test_data, test_labels) = reuters.load_data(num_words=10000)\n",
        "#Note: the argument num_words=10000 means that we only keep the top 10000 occuring words in the training data."
      ],
      "execution_count": 1,
      "outputs": [
        {
          "output_type": "stream",
          "text": [
            "Using TensorFlow backend.\n"
          ],
          "name": "stderr"
        },
        {
          "output_type": "stream",
          "text": [
            "Downloading data from https://s3.amazonaws.com/text-datasets/reuters.npz\n",
            "2113536/2110848 [==============================] - 0s 0us/step\n"
          ],
          "name": "stdout"
        }
      ]
    },
    {
      "cell_type": "code",
      "metadata": {
        "id": "229jwYPLGzdV",
        "colab_type": "code",
        "colab": {
          "base_uri": "https://localhost:8080/",
          "height": 52
        },
        "outputId": "e09e57af-cc94-4609-fd38-c3983e1d0eed"
      },
      "source": [
        "#Explore the data\n",
        "print(\"Training entries: {}, labels: {}\".format(len(train_data), len(train_labels)))\n",
        "print(\"Test entries: {}, labels: {}\".format(len(test_data), len(test_labels)))"
      ],
      "execution_count": 3,
      "outputs": [
        {
          "output_type": "stream",
          "text": [
            "Training entries: 8982, labels: 8982\n",
            "Test entries: 2246, labels: 2246\n"
          ],
          "name": "stdout"
        }
      ]
    },
    {
      "cell_type": "markdown",
      "metadata": {
        "id": "d7BYUVHjHHBz",
        "colab_type": "text"
      },
      "source": [
        "each example in train_data is a list of integer. Each label associated with an example is an integer between 0 and 45 (46 classes)"
      ]
    },
    {
      "cell_type": "code",
      "metadata": {
        "id": "hz1VP6FPHXN6",
        "colab_type": "code",
        "colab": {}
      },
      "source": [
        "#Encoding the data\n",
        "import numpy as np\n",
        "\n",
        "def vectorize_sequences(sequences, dimension=10000):\n",
        "  results = np.zeros((len(sequences), dimension))\n",
        "  for i, sequence in enumerate(sequences):\n",
        "    results[i,sequence] = 1.\n",
        "  return results\n",
        "\n",
        "x_train = vectorize_sequences(train_data)\n",
        "x_test = vectorize_sequences(test_data)"
      ],
      "execution_count": 0,
      "outputs": []
    },
    {
      "cell_type": "code",
      "metadata": {
        "id": "-HVIciGXHhnZ",
        "colab_type": "code",
        "colab": {}
      },
      "source": [
        "from keras.utils.np_utils import to_categorical\n",
        "\n",
        "one_hot_train_labels = to_categorical(train_labels)\n",
        "one_hot_test_labels = to_categorical(test_labels)"
      ],
      "execution_count": 0,
      "outputs": []
    },
    {
      "cell_type": "markdown",
      "metadata": {
        "id": "54j-ChjYIKFq",
        "colab_type": "text"
      },
      "source": [
        "# 2. Building the network"
      ]
    },
    {
      "cell_type": "markdown",
      "metadata": {
        "id": "RwwS763fINF6",
        "colab_type": "text"
      },
      "source": [
        "Since there are 46 different classes, we will take a large enough number of hidden units (64) in order to not drop information from layers to layers."
      ]
    },
    {
      "cell_type": "code",
      "metadata": {
        "id": "oDxQZE1DIeZ5",
        "colab_type": "code",
        "colab": {
          "base_uri": "https://localhost:8080/",
          "height": 89
        },
        "outputId": "7d7b539c-e3fe-4b67-820b-aadfe5465650"
      },
      "source": [
        "#model definition\n",
        "from tensorflow.keras import models, layers\n",
        "\n",
        "model = models.Sequential()\n",
        "model.add(layers.Dense(64, activation='relu', input_shape=(10000,))) #relu activation to add non-linearity to the model\n",
        "model.add(layers.Dense(64, activation='relu'))\n",
        "model.add(layers.Dense(46, activation='softmax'))"
      ],
      "execution_count": 6,
      "outputs": [
        {
          "output_type": "stream",
          "text": [
            "WARNING:tensorflow:From /usr/local/lib/python3.6/dist-packages/tensorflow/python/ops/init_ops.py:1251: calling VarianceScaling.__init__ (from tensorflow.python.ops.init_ops) with dtype is deprecated and will be removed in a future version.\n",
            "Instructions for updating:\n",
            "Call initializer instance with the dtype argument instead of passing it to the constructor\n"
          ],
          "name": "stdout"
        }
      ]
    },
    {
      "cell_type": "code",
      "metadata": {
        "id": "zoU1XtUwI0sh",
        "colab_type": "code",
        "colab": {}
      },
      "source": [
        "#Compiling the model\n",
        "model.compile(optimizer='rmsprop',\n",
        "             loss='categorical_crossentropy',\n",
        "             metrics=['acc'])"
      ],
      "execution_count": 0,
      "outputs": []
    },
    {
      "cell_type": "markdown",
      "metadata": {
        "id": "yuhhNJsmI6c4",
        "colab_type": "text"
      },
      "source": [
        "# 3. Training the model"
      ]
    },
    {
      "cell_type": "code",
      "metadata": {
        "id": "-GXVVC2mI7kt",
        "colab_type": "code",
        "colab": {}
      },
      "source": [
        "#Creation of validation set from the training set:\n",
        "x_val = x_train[:1000]\n",
        "partial_x_train = x_train[1000:]\n",
        "\n",
        "y_val = one_hot_train_labels[:1000]\n",
        "partial_y_train = one_hot_train_labels[1000:]"
      ],
      "execution_count": 0,
      "outputs": []
    },
    {
      "cell_type": "code",
      "metadata": {
        "id": "hST_uqKYJM_X",
        "colab_type": "code",
        "colab": {
          "base_uri": "https://localhost:8080/",
          "height": 208
        },
        "outputId": "6460a664-6c8d-428d-8f3b-8501d66b6bbf"
      },
      "source": [
        "#Training:\n",
        "history = model.fit(partial_x_train,\n",
        "                   partial_y_train,\n",
        "                   epochs=5,\n",
        "                   batch_size=512,\n",
        "                   validation_data=(x_val,y_val))"
      ],
      "execution_count": 25,
      "outputs": [
        {
          "output_type": "stream",
          "text": [
            "Train on 7982 samples, validate on 1000 samples\n",
            "Epoch 1/5\n",
            "7982/7982 [==============================] - 1s 123us/sample - loss: 0.0805 - acc: 0.9577 - val_loss: 1.4099 - val_acc: 0.7790\n",
            "Epoch 2/5\n",
            "7982/7982 [==============================] - 1s 121us/sample - loss: 0.0796 - acc: 0.9584 - val_loss: 1.5001 - val_acc: 0.7710\n",
            "Epoch 3/5\n",
            "7982/7982 [==============================] - 1s 123us/sample - loss: 0.0798 - acc: 0.9580 - val_loss: 1.4478 - val_acc: 0.7800\n",
            "Epoch 4/5\n",
            "7982/7982 [==============================] - 1s 124us/sample - loss: 0.0804 - acc: 0.9589 - val_loss: 1.4330 - val_acc: 0.7810\n",
            "Epoch 5/5\n",
            "7982/7982 [==============================] - 1s 120us/sample - loss: 0.0785 - acc: 0.9584 - val_loss: 1.4374 - val_acc: 0.7780\n"
          ],
          "name": "stdout"
        }
      ]
    },
    {
      "cell_type": "markdown",
      "metadata": {
        "id": "mh887ALHJVfN",
        "colab_type": "text"
      },
      "source": [
        "# 4. Training and Validation losses"
      ]
    },
    {
      "cell_type": "code",
      "metadata": {
        "id": "SGrQwOq4Jczz",
        "colab_type": "code",
        "colab": {
          "base_uri": "https://localhost:8080/",
          "height": 34
        },
        "outputId": "cb054c27-d907-4f51-99e8-2491213198b0"
      },
      "source": [
        "history_dict = history.history\n",
        "history_dict.keys()"
      ],
      "execution_count": 26,
      "outputs": [
        {
          "output_type": "execute_result",
          "data": {
            "text/plain": [
              "dict_keys(['loss', 'acc', 'val_loss', 'val_acc'])"
            ]
          },
          "metadata": {
            "tags": []
          },
          "execution_count": 26
        }
      ]
    },
    {
      "cell_type": "code",
      "metadata": {
        "id": "zvCKOMxwJYwS",
        "colab_type": "code",
        "colab": {
          "base_uri": "https://localhost:8080/",
          "height": 297
        },
        "outputId": "52135838-af79-4199-c1eb-706dd8ceaa1f"
      },
      "source": [
        "import matplotlib.pyplot as plt\n",
        "\n",
        "loss_values = history_dict['loss']\n",
        "validation_loss_values = history_dict['val_loss']\n",
        "acc = history.history['acc']\n",
        "validation_acc = history.history['val_acc']\n",
        "\n",
        "epochs = range(1, len(acc)+1)\n",
        "\n",
        "plt.subplot(2, 1, 1)\n",
        "plt.plot(epochs, loss_values, 'bo', label='Training loss')\n",
        "plt.plot(epochs, validation_loss_values, 'b', label='Validation loss')\n",
        "plt.title('Training and validation loss')\n",
        "plt.legend()\n",
        "\n",
        "plt.subplot(2, 1, 2)\n",
        "plt.plot(epochs, acc, 'ro', label='Training accuracy')\n",
        "plt.plot(epochs, validation_acc, 'r', label='Validation accuracy')\n",
        "plt.title('Training and validation accuracy')\n",
        "\n",
        "plt.xlabel('Epochs')\n",
        "plt.ylabel('Loss')\n",
        "plt.legend()\n",
        "\n",
        "plt.tight_layout()\n",
        "plt.show()"
      ],
      "execution_count": 27,
      "outputs": [
        {
          "output_type": "display_data",
          "data": {
            "image/png": "[encoded data removed]",
            "text/plain": [
              "<Figure size 432x288 with 2 Axes>"
            ]
          },
          "metadata": {
            "tags": []
          }
        }
      ]
    }
  ]
}